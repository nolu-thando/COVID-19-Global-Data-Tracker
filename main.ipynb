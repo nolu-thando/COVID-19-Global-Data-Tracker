{
 "cells": [
  {
   "cell_type": "code",
   "execution_count": null,
   "id": "e4b99bda",
   "metadata": {},
   "outputs": [],
   "source": [
    "import pandas as pd "
   ]
  }
 ],
 "metadata": {
  "kernelspec": {
   "display_name": ".venv",
   "language": "python",
   "name": "python3"
  },
  "language_info": {
   "name": "python",
   "version": "3.13.3"
  }
 },
 "nbformat": 4,
 "nbformat_minor": 5
}
