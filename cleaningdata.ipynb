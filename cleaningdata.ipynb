{
 "cells": [
  {
   "cell_type": "code",
   "execution_count": null,
   "id": "1dd1d629",
   "metadata": {},
   "outputs": [
    {
     "name": "stdout",
     "output_type": "stream",
     "text": [
      "    Province/State Country/Region        Lat      Long       Date  Confirmed  \\\n",
      "129            NaN          India  20.593684  78.96288 2020-01-22          0   \n",
      "140            NaN          Kenya  -0.023600  37.90620 2020-01-22          0   \n",
      "390            NaN          India  20.593684  78.96288 2020-01-23          0   \n",
      "401            NaN          Kenya  -0.023600  37.90620 2020-01-23          0   \n",
      "651            NaN          India  20.593684  78.96288 2020-01-24          0   \n",
      "\n",
      "     Deaths  Recovered  Active       WHO Region  \n",
      "129       0          0       0  South-East Asia  \n",
      "140       0          0       0           Africa  \n",
      "390       0          0       0  South-East Asia  \n",
      "401       0          0       0           Africa  \n",
      "651       0          0       0  South-East Asia  \n"
     ]
    }
   ],
   "source": [
    "import pandas as pd # type: ignore\n",
    "\n",
    "# Load dataset\n",
    "df = pd.read_csv('dataset/covid_19_clean_complete.csv')\n",
    "\n",
    "# Filter countries of interest\n",
    "countries_of_interest = ['Kenya', 'USA', 'India']\n",
    "df = df[df['Country/Region'].isin(countries_of_interest)]\n",
    "\n",
    "# Drop rows with missing critical values\n",
    "df = df.dropna(subset=['Deaths', 'Recovered', 'Active'])\n",
    "\n",
    "# Convert the date column to datetime\n",
    "df['Date'] = pd.to_datetime(df['Date'], errors='coerce')\n",
    "\n",
    "# Drop rows where date couldn't be parsed\n",
    "df = df.dropna(subset=['Date'])\n",
    "\n",
    "# Handle missing numeric values\n",
    "df['Deaths'] = df['Deaths'].interpolate()\n",
    "df['Recovered'] = df['Recovered'].fillna(df['Recovered'].mean())\n",
    "df['Active'] = df['Active'].ffill()\n",
    "\n",
    "# Display result\n",
    "print(df.head()) \n",
    "\n",
    "\n",
    "\n",
    "\n"
   ]
  }
 ],
 "metadata": {
  "kernelspec": {
   "display_name": ".venv",
   "language": "python",
   "name": "python3"
  },
  "language_info": {
   "codemirror_mode": {
    "name": "ipython",
    "version": 3
   },
   "file_extension": ".py",
   "mimetype": "text/x-python",
   "name": "python",
   "nbconvert_exporter": "python",
   "pygments_lexer": "ipython3",
   "version": "3.13.3"
  }
 },
 "nbformat": 4,
 "nbformat_minor": 5
}
